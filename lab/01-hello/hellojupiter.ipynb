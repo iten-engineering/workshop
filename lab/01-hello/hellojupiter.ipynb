{
 "cells": [
  {
   "source": [
    "# Jupiter Notebook\n",
    "\n",
    "- Aufzählung A\n",
    "- Aufzählung B\n",
    "- Aufzählung C\n",
    "- Aufzählung D\n"
   ],
   "cell_type": "markdown",
   "metadata": {}
  },
  {
   "cell_type": "code",
   "execution_count": 1,
   "metadata": {},
   "outputs": [
    {
     "output_type": "stream",
     "name": "stdout",
     "text": [
      "todo\n"
     ]
    }
   ],
   "source": [
    "print(\"todo\")"
   ]
  },
  {
   "cell_type": "markdown",
   "source": [
    "## Berechnungen\n",
    "Führen Sie die folgenden Berechnungen aus.\n",
    "- 3 x 3\n",
    "- 5 hoch 2 (hoch wird mit ** angegeben)\n",
    "- 5 x 3 + 2 x 3"
   ],
   "metadata": {
    "collapsed": false
   }
  },
  {
   "source": [
    "print(\"todo\")"
   ],
   "cell_type": "code",
   "metadata": {
    "collapsed": false,
    "pycharm": {
     "name": "#%%\n",
     "is_executing": false
    }
   },
   "execution_count": 3,
   "outputs": [
    {
     "output_type": "stream",
     "name": "stdout",
     "text": [
      "todo\n"
     ]
    }
   ]
  },
  {
   "cell_type": "markdown",
   "source": [
    "## Berechnung mit Variablen\n",
    "- Definieren Sie eine Variable x mit den Wert 5.5 und eine Variable y mit dem Wert 7.\n",
    "- Berenchen Sie die Summe und speichern Sie das Resultat in die Variable total.\n",
    "- Geben Sie das Resultat aus.\n"
   ],
   "metadata": {
    "collapsed": false
   }
  },
  {
   "cell_type": "code",
   "execution_count": 4,
   "metadata": {
    "pycharm": {
     "is_executing": false
    }
   },
   "outputs": [
    {
     "output_type": "stream",
     "name": "stdout",
     "text": [
      "todo\n"
     ]
    }
   ],
   "source": [
    "print(\"todo\")"
   ]
  },
  {
   "cell_type": "markdown",
   "metadata": {},
   "source": [
    "## Weitere Berechnung mit Variablen aus der obigen Zelle\n",
    "- Die Variablen aus der obigen Zelle (sofern diese ausgeführt wurde) können weiter verwendet werden.\n",
    "- Multiplizieren Sie die Werte von x und y und geben Sie das Resultat aus."
   ]
  },
  {
   "cell_type": "code",
   "execution_count": 5,
   "metadata": {
    "pycharm": {
     "is_executing": false
    }
   },
   "outputs": [
    {
     "output_type": "stream",
     "name": "stdout",
     "text": [
      "todo\n"
     ]
    }
   ],
   "source": [
    "print(\"todo\")"
   ]
  },
  {
   "cell_type": "markdown",
   "source": [
    "## Hilfe\n",
    "- Verwenden Sie die Methode help() um herauszufinden, was die Funktion abs macht.\n",
    "- Typen Sie dazu help(abs) in der Konsole ein. \n",
    "- Mit der Methode dir(abs) werden zudem alle Attribute und Methoden der Klasse abs angzeigt.\n",
    "  Estellen Sie eine weitere Zelle und führen Sie den Befehl aus."
   ],
   "metadata": {
    "collapsed": false
   }
  },
  {
   "cell_type": "code",
   "execution_count": 6,
   "outputs": [
    {
     "output_type": "stream",
     "name": "stdout",
     "text": [
      "todo\n"
     ]
    }
   ],
   "source": [
    "print(\"todo\")"
   ],
   "metadata": {
    "collapsed": false,
    "pycharm": {
     "name": "#%%\n"
    }
   }
  },
  {
   "cell_type": "code",
   "execution_count": 7,
   "outputs": [
    {
     "output_type": "stream",
     "name": "stdout",
     "text": [
      "todo\n"
     ]
    }
   ],
   "source": [
    "print(\"todo\")"
   ],
   "metadata": {
    "collapsed": false,
    "pycharm": {
     "name": "#%%\n"
    }
   }
  },
  {
   "cell_type": "markdown",
   "metadata": {},
   "source": [
    "## Typen\n",
    "- Definieren Sie die folgenden Variablen und geben Sie jeweis den Typ aus.\n",
    "  - i = 1\n",
    "  - f = 1.5\n",
    "  - b = True\n",
    "  - s = \"Heute\"\n",
    "- Für die Ausgabe des Typ verwenden Sie die Mehtode type(x)"
   ]
  },
  {
   "cell_type": "code",
   "execution_count": 8,
   "outputs": [
    {
     "output_type": "stream",
     "name": "stdout",
     "text": [
      "todo\n"
     ]
    }
   ],
   "source": [
    "print(\"todo\")"
   ],
   "metadata": {
    "collapsed": false,
    "pycharm": {
     "name": "#%%\n",
     "is_executing": false
    }
   }
  },
  {
   "cell_type": "markdown",
   "metadata": {},
   "source": [
    "## Explizite Typen\n",
    "- Mann kann einer Variablen auch explizit einen Typen zuweisen. \n",
    "- Erstellen Sie zwei Variablen wie folgt und geben Sie anschliessend die jeweiligen Typen aus:\n",
    "  - i = 5\n",
    "  - f = float(5)"
   ]
  },
  {
   "cell_type": "code",
   "metadata": {
    "pycharm": {
     "name": "#%%\n",
     "is_executing": false
    }
   },
   "source": [
    "print(\"todo\")"
   ],
   "execution_count": 9,
   "outputs": [
    {
     "output_type": "stream",
     "name": "stdout",
     "text": [
      "todo\n"
     ]
    }
   ]
  },
  {
   "cell_type": "markdown",
   "metadata": {},
   "source": [
    "## Casting\n",
    "- Beim Casting werden Typen umgewandelt. \n",
    "- Probieren Sie folgenden Cast aus und geben Sie jeweils das Resultat auf der Console aus.\n",
    "- Cast to float\n",
    "  - x = 5\n",
    "  - y = float(x)\n",
    "- Cast to int\n",
    "  - x = 5.5\n",
    "  - y = int(x)\n",
    "- Was passiert bei Cast von float nach int?  "
   ]
  },
  {
   "cell_type": "code",
   "execution_count": 10,
   "metadata": {
    "pycharm": {
     "is_executing": false,
     "name": "#%%\n"
    }
   },
   "outputs": [
    {
     "output_type": "stream",
     "name": "stdout",
     "text": [
      "todo\n"
     ]
    }
   ],
   "source": [
    "print(\"todo\")"
   ]
  },
  {
   "cell_type": "code",
   "execution_count": 11,
   "metadata": {},
   "outputs": [
    {
     "output_type": "stream",
     "name": "stdout",
     "text": [
      "todo\n"
     ]
    }
   ],
   "source": [
    "print(\"todo\")"
   ]
  },
  {
   "cell_type": "markdown",
   "source": [
    "_The end._\n",
    "\n",
    "\n"
   ],
   "metadata": {
    "collapsed": false,
    "pycharm": {
     "name": "#%% md\n"
    }
   }
  }
 ],
 "metadata": {
  "kernelspec": {
   "name": "python3",
   "display_name": "Python 3.7.6 64-bit ('base': conda)"
  },
  "language_info": {
   "codemirror_mode": {
    "name": "ipython",
    "version": 3
   },
   "file_extension": ".py",
   "mimetype": "text/x-python",
   "name": "python",
   "nbconvert_exporter": "python",
   "pygments_lexer": "ipython3",
   "version": "3.7.6"
  },
  "pycharm": {
   "stem_cell": {
    "cell_type": "raw",
    "source": [],
    "metadata": {
     "collapsed": false
    }
   }
  },
  "interpreter": {
   "hash": "9d545a1778b5387fe5a8ed293cf46e690be8d5870e3ab84affe64b052a972633"
  }
 },
 "nbformat": 4,
 "nbformat_minor": 2
}